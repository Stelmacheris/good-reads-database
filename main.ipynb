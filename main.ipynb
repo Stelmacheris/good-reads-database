{
 "cells": [
  {
   "cell_type": "code",
   "execution_count": 70,
   "metadata": {},
   "outputs": [],
   "source": [
    "import matplotlib.pyplot as plt\n",
    "import pandas as pd\n",
    "import seaborn as sns\n",
    "from src.database.PostgresConnection import PostgresConnection"
   ]
  },
  {
   "cell_type": "code",
   "execution_count": 71,
   "metadata": {},
   "outputs": [],
   "source": [
    "%matplotlib inline\n",
    "pd.set_option('display.float_format', lambda x: '%.2f' % x)\n",
    "pd.set_option('display.max_colwidth', None)"
   ]
  },
  {
   "cell_type": "code",
   "execution_count": 72,
   "metadata": {},
   "outputs": [],
   "source": [
    "postgres_connection = PostgresConnection()\n",
    "engine = postgres_connection.get_engine()"
   ]
  },
  {
   "cell_type": "code",
   "execution_count": 73,
   "metadata": {},
   "outputs": [],
   "source": [
    "def get_df_from_sql(engine=engine,query = None):\n",
    "    return pd.read_sql(query,engine)"
   ]
  },
  {
   "cell_type": "code",
   "execution_count": 74,
   "metadata": {},
   "outputs": [],
   "source": [
    "df = pd.read_sql('SELECT * FROM public.all_good_books_info',con=engine)"
   ]
  },
  {
   "cell_type": "code",
   "execution_count": 75,
   "metadata": {},
   "outputs": [
    {
     "data": {
      "text/plain": [
       "index                 int64\n",
       "bookId               object\n",
       "title                object\n",
       "rating              float64\n",
       "description          object\n",
       "language             object\n",
       "isbn                 object\n",
       "bookFormat           object\n",
       "publishDate          object\n",
       "firstPublishDate     object\n",
       "numRatings            int64\n",
       "likedPercent        float64\n",
       "coverImg             object\n",
       "bbeScore            float64\n",
       "bbeVotes              int64\n",
       "price               float64\n",
       "series_id           float64\n",
       "publish_info_id       int64\n",
       "dtype: object"
      ]
     },
     "execution_count": 75,
     "metadata": {},
     "output_type": "execute_result"
    }
   ],
   "source": [
    "df.dtypes"
   ]
  },
  {
   "cell_type": "code",
   "execution_count": 76,
   "metadata": {},
   "outputs": [
    {
     "data": {
      "text/plain": [
       "index                   0\n",
       "bookId                  0\n",
       "title                   0\n",
       "rating                  0\n",
       "description          1338\n",
       "language             3806\n",
       "isbn                    0\n",
       "bookFormat           1473\n",
       "publishDate          1780\n",
       "firstPublishDate    21327\n",
       "numRatings              0\n",
       "likedPercent          622\n",
       "coverImg              605\n",
       "bbeScore                0\n",
       "bbeVotes                0\n",
       "price               14365\n",
       "series_id           29011\n",
       "publish_info_id         0\n",
       "dtype: int64"
      ]
     },
     "execution_count": 76,
     "metadata": {},
     "output_type": "execute_result"
    }
   ],
   "source": [
    "df.isna().sum()"
   ]
  },
  {
   "cell_type": "code",
   "execution_count": 77,
   "metadata": {},
   "outputs": [
    {
     "data": {
      "text/html": [
       "<div>\n",
       "<style scoped>\n",
       "    .dataframe tbody tr th:only-of-type {\n",
       "        vertical-align: middle;\n",
       "    }\n",
       "\n",
       "    .dataframe tbody tr th {\n",
       "        vertical-align: top;\n",
       "    }\n",
       "\n",
       "    .dataframe thead th {\n",
       "        text-align: right;\n",
       "    }\n",
       "</style>\n",
       "<table border=\"1\" class=\"dataframe\">\n",
       "  <thead>\n",
       "    <tr style=\"text-align: right;\">\n",
       "      <th></th>\n",
       "      <th>rating</th>\n",
       "      <th>likedPercent</th>\n",
       "      <th>numRatings</th>\n",
       "      <th>bbeScore</th>\n",
       "      <th>bbeVotes</th>\n",
       "      <th>price</th>\n",
       "    </tr>\n",
       "  </thead>\n",
       "  <tbody>\n",
       "    <tr>\n",
       "      <th>count</th>\n",
       "      <td>52478.00</td>\n",
       "      <td>51856.00</td>\n",
       "      <td>52478.00</td>\n",
       "      <td>52478.00</td>\n",
       "      <td>52478.00</td>\n",
       "      <td>38113.00</td>\n",
       "    </tr>\n",
       "    <tr>\n",
       "      <th>mean</th>\n",
       "      <td>4.02</td>\n",
       "      <td>92.23</td>\n",
       "      <td>17878.65</td>\n",
       "      <td>1984.02</td>\n",
       "      <td>22.53</td>\n",
       "      <td>10.41</td>\n",
       "    </tr>\n",
       "    <tr>\n",
       "      <th>std</th>\n",
       "      <td>0.37</td>\n",
       "      <td>5.99</td>\n",
       "      <td>103944.78</td>\n",
       "      <td>35153.14</td>\n",
       "      <td>369.16</td>\n",
       "      <td>60.21</td>\n",
       "    </tr>\n",
       "    <tr>\n",
       "      <th>min</th>\n",
       "      <td>0.00</td>\n",
       "      <td>0.00</td>\n",
       "      <td>0.00</td>\n",
       "      <td>0.00</td>\n",
       "      <td>-4.00</td>\n",
       "      <td>0.84</td>\n",
       "    </tr>\n",
       "    <tr>\n",
       "      <th>25%</th>\n",
       "      <td>3.82</td>\n",
       "      <td>90.00</td>\n",
       "      <td>341.00</td>\n",
       "      <td>84.00</td>\n",
       "      <td>1.00</td>\n",
       "      <td>3.24</td>\n",
       "    </tr>\n",
       "    <tr>\n",
       "      <th>50%</th>\n",
       "      <td>4.03</td>\n",
       "      <td>94.00</td>\n",
       "      <td>2307.00</td>\n",
       "      <td>97.00</td>\n",
       "      <td>1.00</td>\n",
       "      <td>5.21</td>\n",
       "    </tr>\n",
       "    <tr>\n",
       "      <th>75%</th>\n",
       "      <td>4.23</td>\n",
       "      <td>96.00</td>\n",
       "      <td>9380.50</td>\n",
       "      <td>187.00</td>\n",
       "      <td>2.00</td>\n",
       "      <td>8.86</td>\n",
       "    </tr>\n",
       "    <tr>\n",
       "      <th>max</th>\n",
       "      <td>5.00</td>\n",
       "      <td>100.00</td>\n",
       "      <td>7048471.00</td>\n",
       "      <td>2993816.00</td>\n",
       "      <td>30516.00</td>\n",
       "      <td>8715.51</td>\n",
       "    </tr>\n",
       "  </tbody>\n",
       "</table>\n",
       "</div>"
      ],
      "text/plain": [
       "        rating  likedPercent  numRatings   bbeScore  bbeVotes    price\n",
       "count 52478.00      51856.00    52478.00   52478.00  52478.00 38113.00\n",
       "mean      4.02         92.23    17878.65    1984.02     22.53    10.41\n",
       "std       0.37          5.99   103944.78   35153.14    369.16    60.21\n",
       "min       0.00          0.00        0.00       0.00     -4.00     0.84\n",
       "25%       3.82         90.00      341.00      84.00      1.00     3.24\n",
       "50%       4.03         94.00     2307.00      97.00      1.00     5.21\n",
       "75%       4.23         96.00     9380.50     187.00      2.00     8.86\n",
       "max       5.00        100.00  7048471.00 2993816.00  30516.00  8715.51"
      ]
     },
     "execution_count": 77,
     "metadata": {},
     "output_type": "execute_result"
    }
   ],
   "source": [
    "df[['rating','likedPercent','numRatings','bbeScore','bbeVotes','price']].describe()"
   ]
  },
  {
   "cell_type": "code",
   "execution_count": 103,
   "metadata": {},
   "outputs": [
    {
     "data": {
      "text/plain": [
       "array(['English', 'Arabic', None, 'German', 'Dutch', 'Spanish',\n",
       "       'Multiple languages', 'French', 'Persian', 'Portuguese', 'Turkish',\n",
       "       'Italian', 'Indonesian', 'Chinese', 'Marathi', 'Urdu', 'Romanian',\n",
       "       'Malayalam', 'Croatian', 'Bulgarian', 'Russian', 'Japanese',\n",
       "       'Kurdish', 'Greek, Modern (1453-)', 'Filipino; Pilipino',\n",
       "       'Serbian', 'Vietnamese', 'Tamil', 'Armenian', 'Kannada', 'Hindi',\n",
       "       'Malay', 'Finnish', 'Nepali', 'Slovak', 'Telugu', 'Hungarian',\n",
       "       'Estonian', 'English, Middle (1100-1500)', 'Czech', 'Bengali',\n",
       "       'Swedish', 'Azerbaijani', 'Farsi', 'Lithuanian',\n",
       "       'Catalan; Valencian', 'Ukrainian', 'Polish', 'Danish',\n",
       "       'Iranian (Other)', 'Macedonian', 'Maltese', 'Norwegian', 'Amharic',\n",
       "       'Aromanian; Arumanian; Macedo-Romanian', 'Assamese', 'Gujarati',\n",
       "       'Georgian', 'Icelandic', 'Korean', 'Latvian', 'Bosnian',\n",
       "       'Afrikaans', 'Thai', 'Albanian', 'Mongolian', 'Tagalog',\n",
       "       'Slovenian', 'Bokmål, Norwegian; Norwegian Bokmål',\n",
       "       'Mayan languages', 'Greek, Ancient (to 1453)',\n",
       "       'Norwegian Nynorsk; Nynorsk, Norwegian',\n",
       "       'French, Middle (ca.1400-1600)', 'Faroese', 'Basque',\n",
       "       'Panjabi; Punjabi', 'Dutch, Middle (ca.1050-1350)', 'Galician',\n",
       "       'Aleut', 'Undetermined', 'Duala', 'Australian languages'],\n",
       "      dtype=object)"
      ]
     },
     "execution_count": 103,
     "metadata": {},
     "output_type": "execute_result"
    }
   ],
   "source": [
    "df['language'].unique()"
   ]
  },
  {
   "cell_type": "code",
   "execution_count": 104,
   "metadata": {},
   "outputs": [
    {
     "data": {
      "text/plain": [
       "array(['Paperback', 'Hardcover', 'Mass Market Paperback',\n",
       "       'Kindle Edition', 'ebook', None, 'Leather Bound',\n",
       "       'Trade Paperback', 'Library Binding', 'Pasta blanda',\n",
       "       'Audio Cassette', 'Unknown Binding', 'Broschiert', 'Audio CD',\n",
       "       'Board Book', 'Nook', 'Audiobook', 'hardcover', 'Hard Cover',\n",
       "       'cloth', 'Hardcover Slipcased ', 'Capa comum', 'Newsprint',\n",
       "       'Spiral-bound', 'Mass Market', 'Pasta dura', 'paperback', 'Novel',\n",
       "       'Perfect Paperback', 'softcover', 'CD-ROM', 'Audio', 'MP3 CD',\n",
       "       'Paperback/Ebook', 'Webnovel', 'Bonded Leather', 'paper book',\n",
       "       'Audible Audio', 'Paperback, eBook', 'Online Fiction - Complete',\n",
       "       'Rústica', 'Bìa mềm', 'Klappenbroschur', 'Trade Paper',\n",
       "       'online fiction', 'Digital Comic', 'Board book', 'revised edition',\n",
       "       'mass_market', 'islamy', 'Softcover', 'text', 'Album', 'webtoon',\n",
       "       'Capa Mole', 'Comic', 'Pocket', 'PDF', 'Webtoon', 'Digital',\n",
       "       'Online', 'Hardback', 'Poche', 'paper', 'Board', 'Wattpad',\n",
       "       'Capa dura', 'Pamphlet', 'Big Book', 'Unbound', 'audio cassette',\n",
       "       'Tankobon Hardcover', 'Audio Cd', 'Casebound',\n",
       "       'Bantam New Fiction', 'Gebunden', 'pamphlet', 'Graphic Novels',\n",
       "       'Book Set', 'Boxed Set', 'Box Set', 'Slipcased Hardcover',\n",
       "       'Paperback ', 'Brochura', 'web', 'hardback', 'Paperback/Kindle',\n",
       "       'Comics', 'Taschenbuch', 'Paper back',\n",
       "       'Paperback, Kindle, Ebook, Audio', 'Paperback and Kindle',\n",
       "       'Hardcover im Schuber', 'Broché',\n",
       "       'Science Fiction Book Club Omnibus', 'Hardcover Boxed Set',\n",
       "       'Mass Market Paperback ', 'Gebundene Ausgabe', 'گالینگور-وزیری',\n",
       "       'hardbound', 'Hard cover, Soft cover, e-book', 'Kindle',\n",
       "       'Online Fiction', 'Interactive ebook', 'Paperback mit Klappen',\n",
       "       'eBook Kindle', 'ebook and paperback', 'Box-Set', 'capa mole',\n",
       "       'School & Library Binding', '文庫', 'Fiction',\n",
       "       'Capa mole - 15,5 x 23 x 2cm', 'Trade paperback',\n",
       "       'Bolsillo con sobrecubierta', '軟精裝', 'Audio Play', 'コミック',\n",
       "       'Hardcover, Paper Dust Jacket', 'Hardcover Chapbook',\n",
       "       'Newsletter Serial', 'Capa mole', 'kindle_edition',\n",
       "       'Softcover, free ebook', 'Innbundet', 'Diary', 'Kovakantinen',\n",
       "       '単行本', \"author's website\", 'Paper Back', 'Audio Book',\n",
       "       'Paperback (عربي-English)', 'Novelty Book', 'Other Format',\n",
       "       'Podiobook', 'Turtleback', 'audiobook'], dtype=object)"
      ]
     },
     "execution_count": 104,
     "metadata": {},
     "output_type": "execute_result"
    }
   ],
   "source": [
    "df['bookFormat'].unique()"
   ]
  },
  {
   "cell_type": "code",
   "execution_count": null,
   "metadata": {},
   "outputs": [],
   "source": [
    "df[['language','bookFormat','publishDate']].mode()"
   ]
  },
  {
   "cell_type": "code",
   "execution_count": 79,
   "metadata": {},
   "outputs": [],
   "source": [
    "modes_tables = [('author','books_authors','author_id'),('characters','books_characters','characters_id'),('genres','books_genres','genres_id')]"
   ]
  },
  {
   "cell_type": "code",
   "execution_count": 80,
   "metadata": {},
   "outputs": [],
   "source": [
    "def plot_first_three_modes(df,column):\n",
    "    mode_counts = df[column].value_counts()\n",
    "    top_modes = mode_counts.head(3)\n",
    "    plt.figure(figsize=(20, 6))\n",
    "    top_modes.plot(kind='bar')\n",
    "    plt.title('Top 3 Modes')\n",
    "    plt.xlabel('Values')\n",
    "    plt.ylabel('Frequency')\n",
    "    plt.xticks(rotation=0)"
   ]
  },
  {
   "cell_type": "code",
   "execution_count": 81,
   "metadata": {},
   "outputs": [
    {
     "data": {
      "image/png": "[encoded data removed]",
      "text/plain": [
       "<Figure size 2000x600 with 1 Axes>"
      ]
     },
     "metadata": {},
     "output_type": "display_data"
    },
    {
     "data": {
      "image/png": "[encoded data removed]",
      "text/plain": [
       "<Figure size 2000x600 with 1 Axes>"
      ]
     },
     "metadata": {},
     "output_type": "display_data"
    },
    {
     "data": {
      "image/png": "[encoded data removed]",
      "text/plain": [
       "<Figure size 2000x600 with 1 Axes>"
      ]
     },
     "metadata": {},
     "output_type": "display_data"
    }
   ],
   "source": [
    "for mode_table in modes_tables:\n",
    "    query = f\"\"\"\n",
    "SELECT b.{mode_table[0]} FROM public.{mode_table[1]} a\n",
    "INNER JOIN public.{mode_table[0]} b\n",
    "ON a.{mode_table[2]} = b.index\n",
    "\"\"\"\n",
    "    df_mode = get_df_from_sql(query=query)\n",
    "    plot_first_three_modes(df_mode,mode_table[0])"
   ]
  },
  {
   "cell_type": "code",
   "execution_count": 82,
   "metadata": {},
   "outputs": [
    {
     "data": {
      "image/png": "[encoded data removed]",
      "text/plain": [
       "<Figure size 2000x600 with 1 Axes>"
      ]
     },
     "metadata": {},
     "output_type": "display_data"
    }
   ],
   "source": [
    "awards_query = \"\"\"\n",
    "SELECT b.title FROM public.books_awards a\n",
    "INNER JOIN public.all_good_books_info b\n",
    "ON a.books_id = b.index\n",
    "\"\"\"\n",
    "awards_df = get_df_from_sql(query=awards_query)\n",
    "plot_first_three_modes(awards_df,'title')"
   ]
  },
  {
   "cell_type": "code",
   "execution_count": 83,
   "metadata": {},
   "outputs": [
    {
     "data": {
      "text/plain": [
       "title    The Oxford India Ghalib: Life, Letters and Ghazals\n",
       "price                                               8715.51\n",
       "Name: 37082, dtype: object"
      ]
     },
     "execution_count": 83,
     "metadata": {},
     "output_type": "execute_result"
    }
   ],
   "source": [
    "df[['title','price']].iloc[df['price'].idxmax()]"
   ]
  },
  {
   "cell_type": "code",
   "execution_count": 91,
   "metadata": {},
   "outputs": [
    {
     "data": {
      "text/plain": [
       "title    The State of Africa: A History of Fifty Years of Independence\n",
       "price                                                             0.84\n",
       "Name: 9283, dtype: object"
      ]
     },
     "execution_count": 91,
     "metadata": {},
     "output_type": "execute_result"
    }
   ],
   "source": [
    "df[['title','price']].iloc[df['price'].idxmin()]"
   ]
  },
  {
   "cell_type": "code",
   "execution_count": null,
   "metadata": {},
   "outputs": [],
   "source": []
  },
  {
   "cell_type": "code",
   "execution_count": 89,
   "metadata": {},
   "outputs": [],
   "source": [
    "ratings_query = \"\"\"\n",
    "SELECT title,rating FROM public.all_good_books_info\n",
    "WHERE rating = 5.00\n",
    "\"\"\"\n",
    "ratings_df = get_df_from_sql(query=ratings_query)\n"
   ]
  },
  {
   "cell_type": "code",
   "execution_count": 90,
   "metadata": {},
   "outputs": [
    {
     "data": {
      "text/html": [
       "<div>\n",
       "<style scoped>\n",
       "    .dataframe tbody tr th:only-of-type {\n",
       "        vertical-align: middle;\n",
       "    }\n",
       "\n",
       "    .dataframe tbody tr th {\n",
       "        vertical-align: top;\n",
       "    }\n",
       "\n",
       "    .dataframe thead th {\n",
       "        text-align: right;\n",
       "    }\n",
       "</style>\n",
       "<table border=\"1\" class=\"dataframe\">\n",
       "  <thead>\n",
       "    <tr style=\"text-align: right;\">\n",
       "      <th></th>\n",
       "      <th>title</th>\n",
       "      <th>rating</th>\n",
       "    </tr>\n",
       "  </thead>\n",
       "  <tbody>\n",
       "    <tr>\n",
       "      <th>0</th>\n",
       "      <td>A Knight in the Void</td>\n",
       "      <td>5.00</td>\n",
       "    </tr>\n",
       "    <tr>\n",
       "      <th>1</th>\n",
       "      <td>Triangle of My Heart: A memoir of family, loss, and faith.</td>\n",
       "      <td>5.00</td>\n",
       "    </tr>\n",
       "    <tr>\n",
       "      <th>2</th>\n",
       "      <td>Se'chasingwa's Song</td>\n",
       "      <td>5.00</td>\n",
       "    </tr>\n",
       "    <tr>\n",
       "      <th>3</th>\n",
       "      <td>Franks and Beans: Stories, Poems, and Tongue Twisters</td>\n",
       "      <td>5.00</td>\n",
       "    </tr>\n",
       "    <tr>\n",
       "      <th>4</th>\n",
       "      <td>Rosto Inacabado (Pequenos segredos alquímicos) (PT) (2013)</td>\n",
       "      <td>5.00</td>\n",
       "    </tr>\n",
       "    <tr>\n",
       "      <th>...</th>\n",
       "      <td>...</td>\n",
       "      <td>...</td>\n",
       "    </tr>\n",
       "    <tr>\n",
       "      <th>848</th>\n",
       "      <td>The Mindful Vegetarian: A 28-Day Plan. The Essential Vegetarian Book for Health and Balance</td>\n",
       "      <td>5.00</td>\n",
       "    </tr>\n",
       "    <tr>\n",
       "      <th>849</th>\n",
       "      <td>Kristen In TJ's World</td>\n",
       "      <td>5.00</td>\n",
       "    </tr>\n",
       "    <tr>\n",
       "      <th>850</th>\n",
       "      <td>Retrain Your Mind: A Comprehensive Approach At Understanding and Overcoming Emotional Pain</td>\n",
       "      <td>5.00</td>\n",
       "    </tr>\n",
       "    <tr>\n",
       "      <th>851</th>\n",
       "      <td>Furniture Of The New Zealand Colonial Era: An Illustrated History, 1830 1900</td>\n",
       "      <td>5.00</td>\n",
       "    </tr>\n",
       "    <tr>\n",
       "      <th>852</th>\n",
       "      <td>Misdiagnosis and Mistreatment: Your Doctor’s Advice is The Number One Cause of Death Kindle Edition</td>\n",
       "      <td>5.00</td>\n",
       "    </tr>\n",
       "  </tbody>\n",
       "</table>\n",
       "<p>853 rows × 2 columns</p>\n",
       "</div>"
      ],
      "text/plain": [
       "                                                                                                   title  \\\n",
       "0                                                                                   A Knight in the Void   \n",
       "1                                             Triangle of My Heart: A memoir of family, loss, and faith.   \n",
       "2                                                                                    Se'chasingwa's Song   \n",
       "3                                                  Franks and Beans: Stories, Poems, and Tongue Twisters   \n",
       "4                                             Rosto Inacabado (Pequenos segredos alquímicos) (PT) (2013)   \n",
       "..                                                                                                   ...   \n",
       "848          The Mindful Vegetarian: A 28-Day Plan. The Essential Vegetarian Book for Health and Balance   \n",
       "849                                                                                Kristen In TJ's World   \n",
       "850           Retrain Your Mind: A Comprehensive Approach At Understanding and Overcoming Emotional Pain   \n",
       "851                         Furniture Of The New Zealand Colonial Era: An Illustrated History, 1830 1900   \n",
       "852  Misdiagnosis and Mistreatment: Your Doctor’s Advice is The Number One Cause of Death Kindle Edition   \n",
       "\n",
       "     rating  \n",
       "0      5.00  \n",
       "1      5.00  \n",
       "2      5.00  \n",
       "3      5.00  \n",
       "4      5.00  \n",
       "..      ...  \n",
       "848    5.00  \n",
       "849    5.00  \n",
       "850    5.00  \n",
       "851    5.00  \n",
       "852    5.00  \n",
       "\n",
       "[853 rows x 2 columns]"
      ]
     },
     "execution_count": 90,
     "metadata": {},
     "output_type": "execute_result"
    }
   ],
   "source": [
    "ratings_df"
   ]
  },
  {
   "cell_type": "code",
   "execution_count": 96,
   "metadata": {},
   "outputs": [],
   "source": [
    "liked_percent_query = \"\"\"\n",
    "SELECT title,\"likedPercent\" FROM public.all_good_books_info\n",
    "WHERE \"likedPercent\" = 100\n",
    "\"\"\"\n",
    "\n",
    "liked_percent_df = get_df_from_sql(query=liked_percent_query)"
   ]
  },
  {
   "cell_type": "code",
   "execution_count": 97,
   "metadata": {},
   "outputs": [
    {
     "data": {
      "text/html": [
       "<div>\n",
       "<style scoped>\n",
       "    .dataframe tbody tr th:only-of-type {\n",
       "        vertical-align: middle;\n",
       "    }\n",
       "\n",
       "    .dataframe tbody tr th {\n",
       "        vertical-align: top;\n",
       "    }\n",
       "\n",
       "    .dataframe thead th {\n",
       "        text-align: right;\n",
       "    }\n",
       "</style>\n",
       "<table border=\"1\" class=\"dataframe\">\n",
       "  <thead>\n",
       "    <tr style=\"text-align: right;\">\n",
       "      <th></th>\n",
       "      <th>title</th>\n",
       "      <th>likedPercent</th>\n",
       "    </tr>\n",
       "  </thead>\n",
       "  <tbody>\n",
       "    <tr>\n",
       "      <th>0</th>\n",
       "      <td>Hooligan's Alley: Inspired by the Compelling True Story of a Hell's Kitchen Immigrant</td>\n",
       "      <td>100.00</td>\n",
       "    </tr>\n",
       "    <tr>\n",
       "      <th>1</th>\n",
       "      <td>A Knight in the Void</td>\n",
       "      <td>100.00</td>\n",
       "    </tr>\n",
       "    <tr>\n",
       "      <th>2</th>\n",
       "      <td>Het innerlijk behang en andere gedichten</td>\n",
       "      <td>100.00</td>\n",
       "    </tr>\n",
       "    <tr>\n",
       "      <th>3</th>\n",
       "      <td>For the Love of Armin</td>\n",
       "      <td>100.00</td>\n",
       "    </tr>\n",
       "    <tr>\n",
       "      <th>4</th>\n",
       "      <td>One Hundred Views of NW3</td>\n",
       "      <td>100.00</td>\n",
       "    </tr>\n",
       "    <tr>\n",
       "      <th>...</th>\n",
       "      <td>...</td>\n",
       "      <td>...</td>\n",
       "    </tr>\n",
       "    <tr>\n",
       "      <th>2446</th>\n",
       "      <td>La estética musical desde la Antigüedad hasta el siglo XX</td>\n",
       "      <td>100.00</td>\n",
       "    </tr>\n",
       "    <tr>\n",
       "      <th>2447</th>\n",
       "      <td>What Would You Do for Love If You Had No Fear?: Loving Without Losing--Your Mind</td>\n",
       "      <td>100.00</td>\n",
       "    </tr>\n",
       "    <tr>\n",
       "      <th>2448</th>\n",
       "      <td>Diana Princess of Wales</td>\n",
       "      <td>100.00</td>\n",
       "    </tr>\n",
       "    <tr>\n",
       "      <th>2449</th>\n",
       "      <td>Letters Home from The Crimea: A Young Cavalryman's Campaign</td>\n",
       "      <td>100.00</td>\n",
       "    </tr>\n",
       "    <tr>\n",
       "      <th>2450</th>\n",
       "      <td>Undetected</td>\n",
       "      <td>100.00</td>\n",
       "    </tr>\n",
       "  </tbody>\n",
       "</table>\n",
       "<p>2451 rows × 2 columns</p>\n",
       "</div>"
      ],
      "text/plain": [
       "                                                                                      title  \\\n",
       "0     Hooligan's Alley: Inspired by the Compelling True Story of a Hell's Kitchen Immigrant   \n",
       "1                                                                      A Knight in the Void   \n",
       "2                                                  Het innerlijk behang en andere gedichten   \n",
       "3                                                                     For the Love of Armin   \n",
       "4                                                                  One Hundred Views of NW3   \n",
       "...                                                                                     ...   \n",
       "2446                              La estética musical desde la Antigüedad hasta el siglo XX   \n",
       "2447       What Would You Do for Love If You Had No Fear?: Loving Without Losing--Your Mind   \n",
       "2448                                                                Diana Princess of Wales   \n",
       "2449                            Letters Home from The Crimea: A Young Cavalryman's Campaign   \n",
       "2450                                                                             Undetected   \n",
       "\n",
       "      likedPercent  \n",
       "0           100.00  \n",
       "1           100.00  \n",
       "2           100.00  \n",
       "3           100.00  \n",
       "4           100.00  \n",
       "...            ...  \n",
       "2446        100.00  \n",
       "2447        100.00  \n",
       "2448        100.00  \n",
       "2449        100.00  \n",
       "2450        100.00  \n",
       "\n",
       "[2451 rows x 2 columns]"
      ]
     },
     "execution_count": 97,
     "metadata": {},
     "output_type": "execute_result"
    }
   ],
   "source": [
    "liked_percent_df"
   ]
  },
  {
   "cell_type": "code",
   "execution_count": null,
   "metadata": {},
   "outputs": [],
   "source": []
  }
 ],
 "metadata": {
  "kernelspec": {
   "display_name": "Python 3",
   "language": "python",
   "name": "python3"
  },
  "language_info": {
   "codemirror_mode": {
    "name": "ipython",
    "version": 3
   },
   "file_extension": ".py",
   "mimetype": "text/x-python",
   "name": "python",
   "nbconvert_exporter": "python",
   "pygments_lexer": "ipython3",
   "version": "3.12.3"
  }
 },
 "nbformat": 4,
 "nbformat_minor": 2
}
